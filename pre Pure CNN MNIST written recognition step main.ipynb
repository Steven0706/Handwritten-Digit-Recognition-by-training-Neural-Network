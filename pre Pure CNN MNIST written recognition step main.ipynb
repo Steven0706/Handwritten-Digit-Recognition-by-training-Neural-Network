{
 "cells": [
  {
   "cell_type": "markdown",
   "metadata": {},
   "source": [
    "## MNIST hand written data reconition"
   ]
  },
  {
   "cell_type": "markdown",
   "metadata": {},
   "source": [
    "### import packages"
   ]
  },
  {
   "cell_type": "code",
   "execution_count": 15,
   "metadata": {},
   "outputs": [],
   "source": [
    "import numpy as np\n",
    "from scipy.optimize import minimize\n",
    "from scipy.io import loadmat\n",
    "from math import sqrt\n",
    "import time\n",
    "import pickle\n",
    "import matplotlib.pyplot as plt"
   ]
  },
  {
   "cell_type": "markdown",
   "metadata": {},
   "source": [
    "### Data loading and pre-processing"
   ]
  },
  {
   "cell_type": "markdown",
   "metadata": {},
   "source": [
    "#### we can learn that \n",
    "1. use np.empty(0, X) to create a numpy style placeholder\n",
    "2. then use append to add data\n",
    "3. create the random permutation labels for randomnize the data\n",
    "4. the data is still 0 ~ 9 but the train and validation set are random permutated"
   ]
  },
  {
   "cell_type": "code",
   "execution_count": 44,
   "metadata": {},
   "outputs": [],
   "source": [
    "mat = loadmat('mnist_all.mat')\n",
    "# Dividing the data into training, test and Validation data\n",
    "data_train=np.empty((0,784))\n",
    "trn_lab=np.empty((0,1))\n",
    "data_test=np.empty((0,784))\n",
    "tes_lab=np.empty((0,1))\n",
    "data_val=np.empty((0,784))\n",
    "val_lab=np.empty((0,1))\n",
    "for i in range(10):\n",
    "    m1 = mat.get('test'+str(i))\n",
    "    m2 = mat.get('train'+str(i))\n",
    "    num1 = m1.shape[0]\n",
    "    num2 = m2.shape[0]\n",
    "    num3 = int(0.83342*num2)\n",
    "    num4 = num2 - num3\n",
    "    b = range(m2.shape[0])\n",
    "    permut_b = np.random.permutation(b)\n",
    "    Z1 = m2[permut_b[0:num3],:]\n",
    "    Z2 = m2[permut_b[num3:],:]\n",
    "    data_train = np.vstack([data_train,Z1])\n",
    "    data_val = np.vstack([data_val,Z2])\n",
    "    data_test = np.vstack([data_test,m1])\n",
    "    for p in range(num3):\n",
    "        trn_lab = np.append(trn_lab,i)\n",
    "    for q in range(num4):\n",
    "        val_lab = np.append(val_lab,i)\n",
    "    for r in range(num1):\n",
    "        tes_lab = np.append(tes_lab,i)\n",
    "    # normalizing the data to values between to 0-1.\n",
    "    data_test = data_test /255\n",
    "    data_train = data_train / 255\n",
    "    data_val = data_val / 255"
   ]
  },
  {
   "cell_type": "markdown",
   "metadata": {},
   "source": [
    "#### Take a look at the data"
   ]
  },
  {
   "cell_type": "code",
   "execution_count": 39,
   "metadata": {},
   "outputs": [
    {
     "data": {
      "text/plain": [
       "dict_keys(['__header__', '__version__', '__globals__', 'train0', 'test0', 'train1', 'test1', 'train2', 'test2', 'train3', 'test3', 'train4', 'test4', 'train5', 'test5', 'train6', 'test6', 'train7', 'test7', 'train8', 'test8', 'train9', 'test9'])"
      ]
     },
     "execution_count": 39,
     "metadata": {},
     "output_type": "execute_result"
    }
   ],
   "source": [
    "mat.keys()"
   ]
  },
  {
   "cell_type": "code",
   "execution_count": 40,
   "metadata": {},
   "outputs": [
    {
     "data": {
      "text/plain": [
       "(5923, 784)"
      ]
     },
     "execution_count": 40,
     "metadata": {},
     "output_type": "execute_result"
    }
   ],
   "source": [
    "mat['train0'].shape"
   ]
  },
  {
   "cell_type": "code",
   "execution_count": 41,
   "metadata": {},
   "outputs": [
    {
     "data": {
      "image/png": "[encoded data removed]",
      "text/plain": [
       "<matplotlib.figure.Figure at 0x111eb5b70>"
      ]
     },
     "metadata": {},
     "output_type": "display_data"
    }
   ],
   "source": [
    "temppic = mat['train5'][100].reshape(28,28)\n",
    "plt.imshow(temppic)\n",
    "plt.show()"
   ]
  },
  {
   "cell_type": "code",
   "execution_count": 42,
   "metadata": {},
   "outputs": [
    {
     "name": "stdout",
     "output_type": "stream",
     "text": [
      "6\n"
     ]
    },
    {
     "data": {
      "image/png": "[encoded data removed]",
      "text/plain": [
       "<matplotlib.figure.Figure at 0x1118d24a8>"
      ]
     },
     "metadata": {},
     "output_type": "display_data"
    }
   ],
   "source": [
    "checkIDX = 33420\n",
    "print (int(trn_lab[checkIDX]))\n",
    "plt.imshow(data_train[checkIDX].reshape(28,28))\n",
    "plt.show()"
   ]
  },
  {
   "cell_type": "code",
   "execution_count": 43,
   "metadata": {},
   "outputs": [
    {
     "name": "stdout",
     "output_type": "stream",
     "text": [
      "(50000, 784)\n",
      "(10000, 784)\n",
      "(10000, 784)\n"
     ]
    }
   ],
   "source": [
    "print (data_train.shape)\n",
    "print (data_val.shape)\n",
    "print (data_test.shape)"
   ]
  },
  {
   "cell_type": "code",
   "execution_count": 67,
   "metadata": {},
   "outputs": [
    {
     "name": "stdout",
     "output_type": "stream",
     "text": [
      "(50000, 784)\n",
      "(50000,)\n",
      "(10000, 784)\n",
      "(10000,)\n",
      "(10000, 784)\n",
      "(10000,)\n"
     ]
    }
   ],
   "source": [
    "#All check here\n",
    "train_data = data_train\n",
    "train_label = trn_lab\n",
    "validation_data = data_val\n",
    "validation_label = val_lab\n",
    "test_data = data_test\n",
    "test_label = tes_lab\n",
    "\n",
    "print(train_data.shape)\n",
    "print(train_label.shape) \n",
    "\n",
    "print(validation_data.shape)\n",
    "print(validation_label.shape)\n",
    "\n",
    "print(test_data.shape) \n",
    "print(test_label.shape)"
   ]
  },
  {
   "cell_type": "markdown",
   "metadata": {},
   "source": [
    "## Start the CNN now"
   ]
  },
  {
   "cell_type": "markdown",
   "metadata": {},
   "source": [
    "### There are 3 layers in total: input, hidden, output layers"
   ]
  },
  {
   "cell_type": "code",
   "execution_count": 68,
   "metadata": {},
   "outputs": [],
   "source": [
    "# set the number of nodes in input unit (not including bias unit)\n",
    "n_input = train_data.shape[1]; \n",
    "\n",
    "# set the number of nodes in hidden unit (not including bias unit)\n",
    "n_hidden = 50;\n",
    "\t\t\t\t   \n",
    "# set the number of nodes in output unit\n",
    "n_class = 10;\t"
   ]
  },
  {
   "cell_type": "markdown",
   "metadata": {},
   "source": [
    "### Train the network first!"
   ]
  },
  {
   "cell_type": "markdown",
   "metadata": {},
   "source": [
    "#### Weight initialization\n",
    "Why we need the epsilon????"
   ]
  },
  {
   "cell_type": "code",
   "execution_count": 69,
   "metadata": {},
   "outputs": [],
   "source": [
    "# initialize the weights into some random matrices\n",
    "#W: matrix of random initial weights with size (n_out x (n_in + 1))\"\"\"\n",
    "def initializeWeights(n_in,n_out):\n",
    "    \"\"\"\n",
    "    # initializeWeights return the random weights for Neural Network given the\n",
    "    # number of node in the input layer and output layer\n",
    "\n",
    "    # Input:\n",
    "    # n_in: number of nodes of the input layer\n",
    "    # n_out: number of nodes of the output layer\n",
    "       \n",
    "    # Output: \n",
    "    # W: matrix of random initial weights with size (n_out x (n_in + 1))\"\"\"\n",
    "    \n",
    "    #epsilon = sqrt(6) / sqrt(n_in + n_out + 1);\n",
    "    #W = (np.random.rand(n_out, n_in + 1)*2* epsilon) - epsilon;\n",
    "    # Why we need thing above?\n",
    "    W = np.random.rand(n_out, n_in + 1)\n",
    "    return W\n",
    "\n",
    "initial_w1 = initializeWeights(n_input, n_hidden);\n",
    "initial_w2 = initializeWeights(n_hidden, n_class);"
   ]
  },
  {
   "cell_type": "markdown",
   "metadata": {},
   "source": [
    "#### get ready to use the weights"
   ]
  },
  {
   "cell_type": "code",
   "execution_count": 70,
   "metadata": {},
   "outputs": [
    {
     "name": "stdout",
     "output_type": "stream",
     "text": [
      "(50, 785)\n",
      "(10, 51)\n"
     ]
    }
   ],
   "source": [
    "print (initial_w1.shape)\n",
    "print (initial_w2.shape)"
   ]
  },
  {
   "cell_type": "code",
   "execution_count": 71,
   "metadata": {},
   "outputs": [],
   "source": [
    "w1 = initial_w1\n",
    "w2 = initial_w2\n",
    "obj_val = 0"
   ]
  },
  {
   "cell_type": "markdown",
   "metadata": {},
   "source": [
    "### To minimize the cost, we need proper define the cost function and its forms as \n",
    "https://docs.scipy.org/doc/scipy/reference/generated/scipy.optimize.minimize.html#scipy.optimize.minimize\n",
    "\n",
    "The objective function to be minimized. Must be in the form f(x, *args). The optimizing argument, x, is a 1-D array of points, and args is a tuple of any additional fixed parameters needed to completely specify the function.\n",
    "args : tuple, optional\n",
    "Extra arguments passed to the objective function and its derivatives (Jacobian, Hessian).\n",
    "\n",
    "Jacobian (gradient) of objective function. Only for CG, BFGS, Newton-CG, L-BFGS-B, TNC, SLSQP, dogleg, trust-ncg, trust-krylov, trust-region-exact. If jac is a Boolean and is True, fun is assumed to return the gradient along with the objective function."
   ]
  },
  {
   "cell_type": "code",
   "execution_count": 95,
   "metadata": {},
   "outputs": [],
   "source": [
    "training_label = np.array(train_label)\n",
    "rows = training_label.shape[0];\n",
    "rowsIndex=np.arange(rows,dtype=\"int\")"
   ]
  },
  {
   "cell_type": "code",
   "execution_count": 96,
   "metadata": {},
   "outputs": [
    {
     "data": {
      "text/plain": [
       "array([    0,     1,     2, ..., 49997, 49998, 49999])"
      ]
     },
     "execution_count": 96,
     "metadata": {},
     "output_type": "execute_result"
    }
   ],
   "source": [
    "rowsIndex"
   ]
  },
  {
   "cell_type": "code",
   "execution_count": 97,
   "metadata": {},
   "outputs": [
    {
     "name": "stdout",
     "output_type": "stream",
     "text": [
      "[ 0.  0.  0. ...,  9.  9.  9.]\n"
     ]
    }
   ],
   "source": [
    "tempLabel = np.zeros((rows,10))\n",
    "tempLabel[rowsIndex,training_label.astype(int)]=1"
   ]
  },
  {
   "cell_type": "code",
   "execution_count": 113,
   "metadata": {},
   "outputs": [],
   "source": [
    "training_label = tempLabel  #one hot key result of label"
   ]
  },
  {
   "cell_type": "code",
   "execution_count": 114,
   "metadata": {},
   "outputs": [
    {
     "data": {
      "text/plain": [
       "(50000, 784)"
      ]
     },
     "execution_count": 114,
     "metadata": {},
     "output_type": "execute_result"
    }
   ],
   "source": [
    "train_data.shape"
   ]
  },
  {
   "cell_type": "code",
   "execution_count": 115,
   "metadata": {},
   "outputs": [],
   "source": [
    "training_data = np.column_stack((train_data,np.ones(train_data.shape[0])))"
   ]
  },
  {
   "cell_type": "code",
   "execution_count": 116,
   "metadata": {},
   "outputs": [
    {
     "name": "stdout",
     "output_type": "stream",
     "text": [
      "(50000, 785)\n",
      "50000\n"
     ]
    }
   ],
   "source": [
    "print (training_data.shape)\n",
    "number_of_samples = training_data.shape[0]\n",
    "print (number_of_samples)"
   ]
  },
  {
   "cell_type": "markdown",
   "metadata": {},
   "source": [
    "### Let it propagate and calculate the errors"
   ]
  },
  {
   "cell_type": "code",
   "execution_count": 117,
   "metadata": {},
   "outputs": [],
   "source": [
    "def sigmoid(z):\n",
    "    \n",
    "    \"\"\"# Notice that z can be a scalar, a vector or a matrix\n",
    "    # return the sigmoid of input z\"\"\"\n",
    "    sigmoid_result = 1.0 / (1.0 + np.exp(-1.0 * z));\n",
    "    return  sigmoid_result"
   ]
  },
  {
   "cell_type": "code",
   "execution_count": 130,
   "metadata": {},
   "outputs": [
    {
     "name": "stdout",
     "output_type": "stream",
     "text": [
      "(50000, 50)\n",
      "(50000, 51)\n"
     ]
    }
   ],
   "source": [
    "# passing the input data to the Hidden layer\n",
    "zj = sigmoid(np.dot(training_data,w1.T))\n",
    "print (zj.shape)\n",
    "# adding bias to the hidden layer\n",
    "zj = np.column_stack((zj,np.ones(zj.shape[0])))\n",
    "print (zj.shape)\n",
    "# passing the hidden layer data to the output layer\n",
    "ol = sigmoid(np.dot(zj,w2.T))\n",
    "\n"
   ]
  },
  {
   "cell_type": "code",
   "execution_count": 119,
   "metadata": {},
   "outputs": [],
   "source": [
    "# Back propogation\n",
    "deltaOutput = ol - training_label\n",
    "error = np.sum(-1*(training_label*np.log(ol)+(1-training_label)*np.log(1-ol)))\n",
    "error = error/number_of_samples"
   ]
  },
  {
   "cell_type": "markdown",
   "metadata": {},
   "source": [
    "### Calculate the gradient and backprapagation"
   ]
  },
  {
   "cell_type": "code",
   "execution_count": 121,
   "metadata": {},
   "outputs": [],
   "source": [
    "deltaOutput = ol - training_label\n",
    "error = np.sum(-1*(training_label*np.log(ol)+(1-training_label)*np.log(1-ol)))\n",
    "error = error/number_of_samples"
   ]
  },
  {
   "cell_type": "markdown",
   "metadata": {},
   "source": [
    "#### The above function is the cost function of logistic regression\n",
    "https://www.coursera.org/learn/machine-learning/supplement/afqGa/cost-function"
   ]
  },
  {
   "cell_type": "code",
   "execution_count": null,
   "metadata": {},
   "outputs": [],
   "source": [
    "gradient_of_w2 = np.dot(deltaOutput.T,zj)\n",
    "gradient_of_w2 = gradient_of_w2/number_of_samples"
   ]
  },
  {
   "cell_type": "markdown",
   "metadata": {},
   "source": [
    "#### The gradient of w2 is the delta times the zj (hidden layer values)\n",
    "key elements here:\n",
    "https://www.coursera.org/learn/machine-learning/supplement/pjdBA/backpropagation-algorithm"
   ]
  },
  {
   "cell_type": "code",
   "execution_count": null,
   "metadata": {},
   "outputs": [],
   "source": [
    "gradient_of_w1 = np.dot(((1-zj)*zj* (np.dot(deltaOutput,w2))).T,training_data)\n",
    "gradient_of_w1 = gradient_of_w1/number_of_samples\t\n",
    "gradient_of_w1 = np.delete(gradient_of_w1, n_hidden,0)"
   ]
  },
  {
   "cell_type": "code",
   "execution_count": 124,
   "metadata": {},
   "outputs": [
    {
     "data": {
      "text/plain": [
       "array([[-0.,  1.,  1., ...,  1.,  1.,  1.],\n",
       "       [-0.,  1.,  1., ...,  1.,  1.,  1.],\n",
       "       [-0.,  1.,  1., ...,  1.,  1.,  1.],\n",
       "       ..., \n",
       "       [ 1.,  1.,  1., ...,  1.,  1., -0.],\n",
       "       [ 1.,  1.,  1., ...,  1.,  1., -0.],\n",
       "       [ 1.,  1.,  1., ...,  1.,  1., -0.]])"
      ]
     },
     "execution_count": 124,
     "metadata": {},
     "output_type": "execute_result"
    }
   ],
   "source": [
    "np.round(deltaOutput,2)"
   ]
  },
  {
   "cell_type": "code",
   "execution_count": 126,
   "metadata": {},
   "outputs": [
    {
     "data": {
      "text/plain": [
       "array([ 0.99999984,  0.99999998,  0.99999991,  0.99999996,  0.99999982,\n",
       "        0.99999992,  0.99999965,  0.9999999 ,  0.99999998,  0.99999992])"
      ]
     },
     "execution_count": 126,
     "metadata": {},
     "output_type": "execute_result"
    }
   ],
   "source": [
    "ol[0]"
   ]
  },
  {
   "cell_type": "code",
   "execution_count": 128,
   "metadata": {},
   "outputs": [
    {
     "data": {
      "text/plain": [
       "3.0000009999998634"
      ]
     },
     "execution_count": 128,
     "metadata": {},
     "output_type": "execute_result"
    }
   ],
   "source": [
    "(1.001**3 - (1-0.001)**3)/0.002"
   ]
  },
  {
   "cell_type": "code",
   "execution_count": 129,
   "metadata": {},
   "outputs": [
    {
     "data": {
      "text/plain": [
       "50"
      ]
     },
     "execution_count": 129,
     "metadata": {},
     "output_type": "execute_result"
    }
   ],
   "source": [
    "n_hidden"
   ]
  },
  {
   "cell_type": "code",
   "execution_count": null,
   "metadata": {},
   "outputs": [],
   "source": []
  }
 ],
 "metadata": {
  "kernelspec": {
   "display_name": "Python 3",
   "language": "python",
   "name": "python3"
  },
  "language_info": {
   "codemirror_mode": {
    "name": "ipython",
    "version": 3
   },
   "file_extension": ".py",
   "mimetype": "text/x-python",
   "name": "python",
   "nbconvert_exporter": "python",
   "pygments_lexer": "ipython3",
   "version": "3.6.3"
  }
 },
 "nbformat": 4,
 "nbformat_minor": 2
}
